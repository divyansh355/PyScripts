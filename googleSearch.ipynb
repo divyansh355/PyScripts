{
 "cells": [
  {
   "cell_type": "code",
   "execution_count": null,
   "metadata": {},
   "outputs": [],
   "source": [
    "pip install google"
   ]
  },
  {
   "cell_type": "code",
   "execution_count": null,
   "metadata": {},
   "outputs": [],
   "source": [
    "import time\n",
    "from googlesearch import search\n",
    "\n",
    "start_time = time.monotonic()\n",
    "\n",
    "query = input()\n",
    "print(f\"Qurey : {query}\")\n",
    "\n",
    "urlCount = 0\n",
    "\n",
    "for url in search(query):\n",
    "    print(url)\n",
    "    urlCount += 1\n",
    "\n",
    "end_time = time.monotonic()\n",
    "execution_time = end_time - start_time\n",
    "\n",
    "print(f\"{urlCount} Results in {execution_time:.6f} seconds\")"
   ]
  }
 ],
 "metadata": {
  "kernelspec": {
   "display_name": "Python 3.8.10 64-bit",
   "language": "python",
   "name": "python3"
  },
  "language_info": {
   "codemirror_mode": {
    "name": "ipython",
    "version": 3
   },
   "file_extension": ".py",
   "mimetype": "text/x-python",
   "name": "python",
   "nbconvert_exporter": "python",
   "pygments_lexer": "ipython3",
   "version": "3.8.10"
  },
  "orig_nbformat": 4,
  "vscode": {
   "interpreter": {
    "hash": "e7370f93d1d0cde622a1f8e1c04877d8463912d04d973331ad4851f04de6915a"
   }
  }
 },
 "nbformat": 4,
 "nbformat_minor": 2
}
